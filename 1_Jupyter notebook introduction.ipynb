{
 "cells": [
  {
   "cell_type": "code",
   "execution_count": 1,
   "metadata": {},
   "outputs": [
    {
     "name": "stdout",
     "output_type": "stream",
     "text": [
      "Enter ur namefebin\n",
      "Hello febin\n"
     ]
    }
   ],
   "source": [
    "name = input(\"Enter ur name\")\n",
    "print(\"Hello\",name)"
   ]
  },
  {
   "cell_type": "markdown",
   "metadata": {},
   "source": [
    "This is a markdown cell"
   ]
  },
  {
   "cell_type": "markdown",
   "metadata": {},
   "source": [
    "# this is a title\n",
    "## this is a heading\n",
    "### this is a sub heading\n",
    "#### this is as small as a heading can get\n",
    "##### fifth hash makes it in italics"
   ]
  },
  {
   "cell_type": "markdown",
   "metadata": {},
   "source": [
    "__this will appear in bold__\n",
    "**So will this**"
   ]
  },
  {
   "cell_type": "markdown",
   "metadata": {},
   "source": [
    "_one dash will make it in italics_"
   ]
  },
  {
   "cell_type": "markdown",
   "metadata": {},
   "source": [
    "___This one is in both bold and italics___"
   ]
  },
  {
   "cell_type": "markdown",
   "metadata": {},
   "source": [
    "`this text wll appear in monospace font`"
   ]
  },
  {
   "cell_type": "markdown",
   "metadata": {},
   "source": [
    "I want a line break here.\n",
    "But I dont get it"
   ]
  },
  {
   "cell_type": "markdown",
   "metadata": {},
   "source": [
    "So I used manual line break<br>\n",
    "Now I got it"
   ]
  },
  {
   "cell_type": "markdown",
   "metadata": {},
   "source": [
    "this is first line\n",
    "> this indents the second line\n",
    ">> this further indents it\n",
    ">>> and goes on"
   ]
  },
  {
   "cell_type": "markdown",
   "metadata": {},
   "source": [
    "-  creates a bullet\n",
    "    -  this is a sub-bullet"
   ]
  },
  {
   "cell_type": "markdown",
   "metadata": {},
   "source": [
    "<img src= >"
   ]
  },
  {
   "cell_type": "markdown",
   "metadata": {},
   "source": [
    "press 'h' key in command mode for shortcuts"
   ]
  },
  {
   "cell_type": "markdown",
   "metadata": {},
   "source": []
  }
 ],
 "metadata": {
  "kernelspec": {
   "display_name": "Python 3",
   "language": "python",
   "name": "python3"
  },
  "language_info": {
   "codemirror_mode": {
    "name": "ipython",
    "version": 3
   },
   "file_extension": ".py",
   "mimetype": "text/x-python",
   "name": "python",
   "nbconvert_exporter": "python",
   "pygments_lexer": "ipython3",
   "version": "3.7.3"
  }
 },
 "nbformat": 4,
 "nbformat_minor": 4
}
